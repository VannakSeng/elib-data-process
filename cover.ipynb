{
 "cells": [
  {
   "cell_type": "code",
   "execution_count": 28,
   "outputs": [
    {
     "name": "stdout",
     "output_type": "stream",
     "text": [
      "34. Lami de lecole de pali 1ans1\n",
      "35. Lami de lecole de pali 1ans3\n",
      "36. Lami de lecole de pali 1ans4\n",
      "37. Lami de lecole de pali 1ans5\n",
      "38. Lami de lecole de pali 1ans6\n",
      "39. Lami de lecole de pali 1ans7\n",
      "40. Lami de lecole de pali 1ans8\n",
      "41. Lami de lecole de pali 1ans9\n",
      "42. Lami de lecole de pali 1ans10\n",
      "43. Lami de lecole de pali 1ans11\n",
      "44. Lami de lecole de pali 1ans12\n",
      "45. Lami de lecole de pali 2ans1\n",
      "46. Lami de lecole de pali 2ans2\n",
      "47. Lami de lecole de pali 2ans3\n",
      "48. Lami de lecole de pali 2ans4.5\n",
      "49. Lami de lecole de pali 2ans6.7\n",
      "50. Lami de lecole de pali 2ans8.9\n",
      "51. Lami de lecole de pali 2ans10.11.12\n",
      "52. Lami de lecole de pali 3ans1.2.3\n",
      "53. Lami de lecole de pali 3ans4.5.6\n",
      "54. Lami de lecole de pali 3ans7.8.9\n",
      "55. Lami de lecole de pali 3ans10.11.12\n",
      "55.Revue de Instituteur Khmer 4ans5\n",
      "69.La revue du professeur 1ans1\n",
      "70.La revue du professeur 3ans5\n",
      "71.La revue du professeur 4ans6\n",
      "72.La revue du professeur 5ans8\n",
      "73.La revue du professeur 5ans11-12\n",
      "74.La revue du professeur 5ans13\n",
      "75.La revue du professeur 5ans14\n",
      "76.La revue du professeur 5ans15\n",
      "77.La revue du professeur 6ans17\n",
      "78.La revue du professeur 6ans18\n",
      "79.La revue du professeur 6ans19\n",
      "80.La revue du professeur 7ans20\n",
      "81.La revue du professeur 7ans21\n",
      "82.La revue du professeur 8ans22\n",
      "83.La revue du professeur 8ans23\n",
      "84.La revue du professeur 8ans24\n",
      "B.00469_ ព្រះលក្សណរ្ស អានថាព្រះលក្ខណ័ស៊ិន្នវង្ស ព្រាមកេស្ស ២\n",
      "._84.La revue du professeur 8ans24\n",
      "._B.00469_ ព្រះលក្សណរ្ស អានថាព្រះលក្ខណ័ស៊ិន្នវង្ស ព្រាមកេស្ស ២\n"
     ]
    }
   ],
   "source": [
    "import os\n",
    "import basic\n",
    "\n",
    "path = '/Volumes/Docker/Elib/1_Fonds_Periodicques_Khmer_PDF'\n",
    "for dir_name in os.listdir(path):\n",
    "    if (dir_name.endswith('.pdf')):\n",
    "        filename = f'{path}/{dir_name}'\n",
    "        # basic.save_pdf_cover(filename)\n",
    "        print(basic.get_name_file(dir_name))\n"
   ],
   "metadata": {
    "collapsed": false,
    "ExecuteTime": {
     "end_time": "2023-06-16T01:36:58.263069Z",
     "start_time": "2023-06-16T01:36:58.222059Z"
    }
   }
  },
  {
   "cell_type": "code",
   "execution_count": 22,
   "outputs": [],
   "source": [
    "import basic\n",
    "\n",
    "basic.post_media('/Volumes/Docker/Elib/1_Fonds_Periodicques_Khmer_PDF/34. Lami de lecole de pali 1ans1')"
   ],
   "metadata": {
    "collapsed": false,
    "ExecuteTime": {
     "end_time": "2023-06-16T01:32:17.293516Z",
     "start_time": "2023-06-16T01:32:17.278507Z"
    }
   }
  },
  {
   "cell_type": "code",
   "execution_count": null,
   "outputs": [],
   "source": [],
   "metadata": {
    "collapsed": false
   }
  }
 ],
 "metadata": {
  "kernelspec": {
   "display_name": "Python 3",
   "language": "python",
   "name": "python3"
  },
  "language_info": {
   "codemirror_mode": {
    "name": "ipython",
    "version": 2
   },
   "file_extension": ".py",
   "mimetype": "text/x-python",
   "name": "python",
   "nbconvert_exporter": "python",
   "pygments_lexer": "ipython2",
   "version": "2.7.6"
  }
 },
 "nbformat": 4,
 "nbformat_minor": 0
}
